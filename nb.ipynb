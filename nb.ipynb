{
 "cells": [
  {
   "cell_type": "markdown",
   "metadata": {},
   "source": [
    "# Scorey \n",
    "    - Scraping, aggregating and assessing technical ability of a candidate based on publicly available sources"
   ]
  },
  {
   "cell_type": "markdown",
   "metadata": {},
   "source": [
    "## Problem Statement \n",
    "\n",
    "The current interview scenario is biased towards \"candidate's performance during the 2 hour interview\" and doesn't take other factors into account such as candidate's competitive coding abilities, contribution towards developer community and so on.\n",
    "\n",
    "## Approach\n",
    "\n",
    "Scorey tries to solve this problem by aggregating publicly available data from various websites such as \n",
    "    * Github\n",
    "    * StackOverflow\n",
    "    * CodeChef\n",
    "    * Codebuddy\n",
    "    * Codeforces\n",
    "    * Hackerearth\n",
    "    * SPOJ\n",
    "    * GitAwards\n",
    "\n",
    "Once the data is collected, the algorithm then defines a comprehensive scoring system that grades the candidates technical capablities based on following factors \n",
    "    - Ranking\n",
    "    - Number of Problems Solved\n",
    "    - Activity\n",
    "    - Reputation\n",
    "    - Contribution\n",
    "    - Followers\n",
    "\n",
    "The candidate is then assigned a scored out of 100 <br>\n",
    "This helps the interviewer get a full view of candidates abilties and therefore helps them make a unbiased, informed decision.\n",
    "\n",
    "\n",
    "-------\n",
    "\n",
    "## ( Initial Setup )"
   ]
  },
  {
   "cell_type": "code",
   "execution_count": 2,
   "metadata": {},
   "outputs": [],
   "source": [
    "def color_negative_red(val):\n",
    "    \"\"\"\n",
    "    Takes a scalar and returns a string with\n",
    "    the css property `'color: red'` for negative\n",
    "    strings, black otherwise.\n",
    "    \"\"\"\n",
    "    color = 'red' if val > 0 else 'black'\n",
    "    return 'color: %s' % color"
   ]
  },
  {
   "cell_type": "code",
   "execution_count": 3,
   "metadata": {},
   "outputs": [],
   "source": [
    "# Set CSS properties for th elements in dataframe\n",
    "th_props = [\n",
    "  ('font-size', '15px'),\n",
    "  ('text-align', 'center'),\n",
    "  ('font-weight', 'bold'),\n",
    "  ('color', '#00c936'),\n",
    "  ('background-color', '##f7f7f7')\n",
    "  ]\n",
    "\n",
    "# Set CSS properties for td elements in dataframe\n",
    "td_props = [\n",
    "  ('font-size', '15px'),\n",
    "    ('font-weight', 'bold')\n",
    "  ]\n",
    "\n",
    "# Set table styles\n",
    "styles = [\n",
    "  dict(selector=\"th\", props=th_props),\n",
    "  dict(selector=\"td\", props=td_props)\n",
    "  ]"
   ]
  },
  {
   "cell_type": "markdown",
   "metadata": {},
   "source": [
    "-------\n",
    "\n",
    "## Candidate's Username\n",
    "\n",
    "- This information can be extracted in two ways <br>\n",
    "    - Parsing the resume\n",
    "    - Adding additional fields in the job application form\n",
    "    - Scrape it from personal website"
   ]
  },
  {
   "cell_type": "code",
   "execution_count": 4,
   "metadata": {},
   "outputs": [
    {
     "name": "stdout",
     "output_type": "stream",
     "text": [
      "Enter candidates username - lindajoy\n"
     ]
    }
   ],
   "source": [
    "import urllib.request\n",
    "import requests\n",
    "#return requests.get(url).json()\n",
    "import json\n",
    "import csv\n",
    "\n",
    "serviceurl = 'https://api.github.com/users/'\n",
    "#user = 'poke19962008'\n",
    "\n",
    "user = input('Enter candidates username - ')"
   ]
  },
  {
   "cell_type": "markdown",
   "metadata": {},
   "source": [
    "## Extracting all possible links/ usernames from personal website"
   ]
  },
  {
   "cell_type": "code",
   "execution_count": 6,
   "metadata": {},
   "outputs": [
    {
     "name": "stdout",
     "output_type": "stream",
     "text": [
      "Enter your personal website - https://github.com/lindajoy\n",
      "#start-of-content\n",
      "https://github.com/\n",
      "/join?source=header\n",
      "/features\n",
      "/features/code-review/\n",
      "/features/project-management/\n",
      "/features/integrations\n",
      "/features/actions\n",
      "/features/package-registry\n",
      "/features#team-management\n",
      "/features#social-coding\n",
      "/features#documentation\n",
      "/features#code-hosting\n",
      "/customer-stories\n",
      "/security\n",
      "/enterprise\n",
      "/explore\n",
      "/topics\n",
      "/collections\n",
      "/trending\n",
      "https://lab.github.com/\n",
      "https://opensource.guide\n",
      "https://github.com/events\n",
      "https://github.community\n",
      "https://education.github.com\n",
      "/marketplace\n",
      "/pricing\n",
      "/pricing#feature-comparison\n",
      "https://enterprise.github.com/contact\n",
      "/nonprofit\n",
      "https://education.github.com\n",
      "\n",
      "\n",
      "\n",
      "/login?return_to=%2Flindajoy\n",
      "/join?source=header\n",
      "/join?source=prompt-users-profile\n",
      "/login?return_to=%2Flindajoy\n",
      "https://avatars3.githubusercontent.com/u/34709512?s=400&v=4\n",
      "/login?return_to=https%3A%2F%2Fgithub.com%2Flindajoy\n",
      "https://help.github.com/en/articles/blocking-a-user-from-your-personal-account\n",
      "https://help.github.com/en/articles/reporting-abuse-or-spam\n",
      "/contact/report-abuse?report=lindajoy+%28user%29\n",
      "/login?return_to=https%3A%2F%2Fgithub.com%2Flindajoy\n",
      "https://help.github.com/en/articles/blocking-a-user-from-your-personal-account\n",
      "https://help.github.com/en/articles/reporting-abuse-or-spam\n",
      "/contact/report-abuse?report=lindajoy+%28user%29\n",
      "/lindajoy\n",
      "/lindajoy?tab=repositories\n",
      "/lindajoy?tab=projects\n",
      "/lindajoy?tab=stars\n",
      "/lindajoy?tab=followers\n",
      "/lindajoy?tab=following\n",
      "/lindajoy/Dictionaries_For_Beginners\n",
      "/lindajoy/Dictionaries_For_Beginners/stargazers\n",
      "/lindajoy/audioplayer\n",
      "/rxlabz/audioplayer\n",
      "/lindajoy/Pygame-Snakes\n",
      "/hamzaazizofficial/Pygame-Snakes\n",
      "/lindajoy/madaraka_express\n",
      "/lindajoy/presentations\n",
      "/akittas/presentations\n",
      "/lindajoy/simple-blog\n",
      "https://help.github.com/articles/why-are-my-contributions-not-showing-up-on-my-profile\n",
      "/lindajoy/myappsample\n",
      "/lindajoy/Dictionaries_For_Beginners\n",
      "/lindajoy/simple-blog\n",
      "/lindajoy/Dictionaries_For_Beginners\n",
      "/lindajoy/Dictionaries_For_Beginners/commits?author=lindajoy&since=2019-07-01&until=2019-07-15\n",
      "/lindajoy/Scorey\n",
      "/lindajoy/Dictionaries_For_Beginners\n",
      "/gofornaman/Scorey\n",
      "/lindajoy?tab=overview&from=2019-07-01&to=2019-07-31\n",
      "/gofornaman/Scorey/pull/1\n",
      "https://help.github.com/categories/setting-up-and-managing-your-github-profile\n",
      "/lindajoy?tab=overview&from=2019-07-01&to=2019-07-14\n",
      "/lindajoy?tab=overview&from=2018-12-01&to=2018-12-31\n",
      "/lindajoy?tab=overview&from=2017-12-01&to=2017-12-31\n",
      "https://github.com/site/terms\n",
      "https://github.com/site/privacy\n",
      "https://github.com/security\n",
      "https://githubstatus.com/\n",
      "https://help.github.com\n",
      "https://github.com\n",
      "https://github.com/contact\n",
      "https://github.com/pricing\n",
      "https://developer.github.com\n",
      "https://training.github.com\n",
      "https://github.blog\n",
      "https://github.com/about\n",
      "\n",
      "\n"
     ]
    }
   ],
   "source": [
    "from bs4 import BeautifulSoup\n",
    "import urllib\n",
    "import urllib.parse\n",
    "import urllib.request\n",
    "from urllib.request import urlopen\n",
    "\n",
    "url = input('Enter your personal website - ')\n",
    "resp=requests.get(url)\n",
    "statuscode=resp.status_code\n",
    "\n",
    "if statuscode  is 200:\n",
    "    html = urlopen(url).read()\n",
    "    soup = BeautifulSoup(html, \"lxml\")\n",
    "\n",
    "    tags = soup('a')\n",
    "\n",
    "    for tag in tags:\n",
    "        print (tag.get('href',None))\n",
    "else:\n",
    "    print(\"Sorry your personal account was not found\")\n"
   ]
  },
  {
   "cell_type": "markdown",
   "metadata": {},
   "source": [
    "## 1. Github"
   ]
  },
  {
   "cell_type": "code",
   "execution_count": null,
   "metadata": {},
   "outputs": [],
   "source": [
    "user = 'poke19962008'\n",
    "#user = raw_input('Enter user_name : ')\n",
    "#if len(user) < 1 : break\n",
    "serviceurl += user +'?'\n",
    "access_token = \"0b330104cd6dc94a8c29afb28a77ee8398e1c77b\"\n",
    "url = serviceurl + urllib.parse.urlencode({'access_token': access_token})\n",
    "print('Retrieving', url)\n",
    "uh = urllib.request.urlopen(url)\n",
    "data = uh.read()\n",
    "    #print data\n",
    "#js = json.loads(str(data))\n",
    "js = json.loads(data.decode(\"utf-8\"))"
   ]
  },
  {
   "cell_type": "code",
   "execution_count": null,
   "metadata": {},
   "outputs": [],
   "source": [
    "js"
   ]
  },
  {
   "cell_type": "code",
   "execution_count": null,
   "metadata": {},
   "outputs": [],
   "source": [
    "import pandas as pd\n",
    "df = pd.DataFrame.from_dict(js, orient='columns')"
   ]
  },
  {
   "cell_type": "code",
   "execution_count": null,
   "metadata": {},
   "outputs": [],
   "source": [
    "df = df.iloc[3:]\n",
    "df"
   ]
  },
  {
   "cell_type": "code",
   "execution_count": null,
   "metadata": {},
   "outputs": [],
   "source": [
    "df_new = df.filter(['email','public_repos','followers','hireable','company','updated_at'], axis=1)"
   ]
  },
  {
   "cell_type": "code",
   "execution_count": null,
   "metadata": {},
   "outputs": [],
   "source": [
    "(df_new.style\n",
    "    .set_table_styles(styles))"
   ]
  },
  {
   "cell_type": "code",
   "execution_count": null,
   "metadata": {},
   "outputs": [],
   "source": [
    "#json.dumps(js, indent=4)\n",
    "\n",
    "# df['public_repos'] = js['public_repos']\n",
    "# #df['total_private_repos'] = js['total_private_repos']\n",
    "# df['followers'] = js['followers']\n",
    "# df['hireable'] = js['hireable']\n",
    "# df['company'] = js['company']\n",
    "# df['updated_at'] = js['updated_at']\n",
    "\n",
    "\n",
    "print(\"Number of public repositores - \", js['public_repos'])\n",
    "#print(\"Number of private repositores - \", js['total_private_repos'])\n",
    "print(\"Number of followers - \", js['followers'])\n",
    "print(\"Is candidate looking for job? - \", js['hireable'])\n",
    "print(\"Company - \", js['company'])\n",
    "print(\"Last seen - \", js['updated_at'])\n"
   ]
  },
  {
   "cell_type": "markdown",
   "metadata": {},
   "source": [
    "\n",
    "\n",
    "--------"
   ]
  },
  {
   "cell_type": "markdown",
   "metadata": {},
   "source": [
    "## 2. StackOverflow"
   ]
  },
  {
   "cell_type": "code",
   "execution_count": null,
   "metadata": {},
   "outputs": [],
   "source": [
    "import stackexchange"
   ]
  },
  {
   "cell_type": "code",
   "execution_count": null,
   "metadata": {},
   "outputs": [],
   "source": [
    "so = stackexchange.Site(stackexchange.StackOverflow)\n"
   ]
  },
  {
   "cell_type": "code",
   "execution_count": null,
   "metadata": {},
   "outputs": [],
   "source": [
    "u = so.user('1600172')\n",
    "print('reputation is' , u.reputation.format())\n",
    "print('no of questions answered - ', u.answers.count)"
   ]
  },
  {
   "cell_type": "code",
   "execution_count": null,
   "metadata": {},
   "outputs": [],
   "source": [
    "df_new['stack_reputation'] = u.reputation.format()"
   ]
  },
  {
   "cell_type": "code",
   "execution_count": null,
   "metadata": {},
   "outputs": [],
   "source": [
    "df_new['stack_answer_count'] = u.answers.count"
   ]
  },
  {
   "cell_type": "code",
   "execution_count": null,
   "metadata": {},
   "outputs": [],
   "source": [
    "df_new.set_index('email')\n",
    "(df_new.style\n",
    "    .set_table_styles(styles))\n"
   ]
  },
  {
   "cell_type": "markdown",
   "metadata": {},
   "source": [
    "--------"
   ]
  },
  {
   "cell_type": "markdown",
   "metadata": {},
   "source": [
    "## 3. CodeChef"
   ]
  },
  {
   "cell_type": "code",
   "execution_count": null,
   "metadata": {},
   "outputs": [],
   "source": [
    "import requests\n",
    "from bs4 import BeautifulSoup"
   ]
  },
  {
   "cell_type": "code",
   "execution_count": null,
   "metadata": {},
   "outputs": [],
   "source": [
    "head = \"https://wwww.codechef.com/users/\"\n",
    "var = user\n",
    "URL = head + user\n",
    "page  = requests.get(URL)\n",
    "soup = BeautifulSoup(page.content,'html.parser')"
   ]
  },
  {
   "cell_type": "code",
   "execution_count": null,
   "metadata": {},
   "outputs": [],
   "source": [
    "\n",
    "#These three lines give the Rating of the user.\n",
    "listRating = list(soup.findAll('div',class_=\"rating-number\"))\n",
    "rating = list(listRating[0].children)\n",
    "rating = rating[0]\n",
    "print (\"Rating: \"+rating)\n",
    "df_new['CodeChef_rating'] = rating"
   ]
  },
  {
   "cell_type": "code",
   "execution_count": null,
   "metadata": {},
   "outputs": [],
   "source": [
    "\n",
    "listGCR = []  #Global and country ranking.\n",
    "listRanking = list(soup.findAll('div',class_=\"rating-ranks\"))\n",
    "rankingSoup = listRanking[0] \n",
    "for item in rankingSoup.findAll('a'):\n",
    "\tlistGCR.append(item.get_text()) #Extracting the text from all anchor tags\n",
    "print (\"Global Ranking: \"+listGCR[0])\n",
    "df_new['CodeChef_global_rank'] = listGCR[0]\n",
    "print (\"Country Ranking: \"+listGCR[1])\n",
    "df_new['CodeChef_Country_rank'] = listGCR[1]\n"
   ]
  },
  {
   "cell_type": "code",
   "execution_count": null,
   "metadata": {},
   "outputs": [],
   "source": [
    "(df_new.style\n",
    "    .set_table_styles(styles))"
   ]
  },
  {
   "cell_type": "markdown",
   "metadata": {},
   "source": [
    "--------"
   ]
  },
  {
   "cell_type": "markdown",
   "metadata": {},
   "source": [
    "## 4. Spoj"
   ]
  },
  {
   "cell_type": "code",
   "execution_count": null,
   "metadata": {},
   "outputs": [],
   "source": [
    "import requests\n",
    "import bs4 as bs\n",
    "\n",
    "#url = input('enter spoj profile url - ')\n",
    "url = 'https://www.spoj.com/users/poke19962008/'\n",
    "sauce = urllib.request.urlopen(url).read()    \n",
    "soup = bs.BeautifulSoup(sauce,'lxml')     # lxml is a parser\n",
    "#print(soup)\n",
    "\n",
    "info = (soup.find_all('p'))\n",
    "for i in info:\n",
    "    print(i.text)\n",
    "\n",
    "no_of_questions = int(soup.find('dd').text)\n",
    "print(\" no. of questions = \",no_of_questions)\n",
    "df_new['SPOJ_no_of_ques'] = no_of_questions\n"
   ]
  },
  {
   "cell_type": "code",
   "execution_count": null,
   "metadata": {},
   "outputs": [],
   "source": [
    "(df_new.style\n",
    "    .set_table_styles(styles))"
   ]
  },
  {
   "cell_type": "markdown",
   "metadata": {},
   "source": [
    "## 5. Codebuddy"
   ]
  },
  {
   "cell_type": "code",
   "execution_count": null,
   "metadata": {},
   "outputs": [],
   "source": [
    "import requests\n",
    "from bs4 import BeautifulSoup\n",
    "\n",
    "def codebuddy(username):\n",
    "    URL = \"https://codebuddy.co.in/ranks/practice\"\n",
    "    page  = requests.get(URL)\n",
    "    soup = BeautifulSoup(page.content,'html.parser')\n",
    "    table = list(soup.find_all('tr'))\n",
    "    for i in table:\n",
    "        parameters = list(i.find_all('label'))\n",
    "        #print (i.find('label',class_=\"highlight\").text)\n",
    "        if str(parameters[1].text)==username:\n",
    "            output = str(int(parameters[0].text))+\" \"+str(int(parameters[2].text))+\" \"+str(float(parameters[3].text))\n",
    "            return (output)\n",
    "    return (-1)\n",
    "#ranking out of 2000"
   ]
  },
  {
   "cell_type": "code",
   "execution_count": null,
   "metadata": {},
   "outputs": [],
   "source": [
    "a = codebuddy(\"spectrum\").split(\" \")\n",
    "a = pd.DataFrame(a)\n",
    "a = a.transpose()"
   ]
  },
  {
   "cell_type": "code",
   "execution_count": null,
   "metadata": {},
   "outputs": [],
   "source": [
    "df_new['Codebuddy_rank'] = a[0].values\n",
    "df_new['Codebuddy_problem_solved'] = a[1].values\n",
    "df_new['Codebuddy_points'] = a[2].values\n",
    "(df_new.style\n",
    "    .set_table_styles(styles))\n"
   ]
  },
  {
   "cell_type": "markdown",
   "metadata": {},
   "source": [
    "-------"
   ]
  },
  {
   "cell_type": "markdown",
   "metadata": {},
   "source": [
    "## 6. Hackerearth"
   ]
  },
  {
   "cell_type": "code",
   "execution_count": null,
   "metadata": {},
   "outputs": [],
   "source": [
    "import bs4 as bs\n",
    "import urllib.request\n",
    "\n",
    "#url = input('enter hackerearth profile url - ')\n",
    "url = 'https://www.hackerearth.com/@poke19962008'\n",
    "sauce = urllib.request.urlopen(url).read()    \n",
    "soup = bs.BeautifulSoup(sauce,'lxml')     # lxml is a parser\n",
    "#print(soup)\n",
    "\n",
    "name = soup.find('h1', class_=\"name ellipsis larger\")\n",
    "print(name)\n",
    "\n",
    "followersNo = soup.find('span', class_=\"track-followers-num\")\n",
    "followingNo = soup.find('span', class_=\"track-following-num\")\n",
    "print(\"No. of followers = \",followersNo)\n",
    "print(\"No. of following = \",followingNo)\n",
    "\n"
   ]
  },
  {
   "cell_type": "markdown",
   "metadata": {},
   "source": [
    "-------"
   ]
  },
  {
   "cell_type": "markdown",
   "metadata": {},
   "source": [
    "## 7. CodeForces"
   ]
  },
  {
   "cell_type": "code",
   "execution_count": null,
   "metadata": {},
   "outputs": [],
   "source": [
    "def codeforces(username):\n",
    "    head = 'http://codeforces.com/profile/'\n",
    "    var = username\n",
    "    URL = head + var\n",
    "    page = requests.get(URL)\n",
    "    soup = BeautifulSoup(page.content,'html.parser')\n",
    "\n",
    "    listRating = list(soup.findAll('div',class_=\"user-rank\"))\n",
    "    CheckRating = listRating[0].get_text()  #Check for rated or unrated\n",
    "    if str(CheckRating) == '\\nUnrated \\n':\n",
    "        # print('Not rated')\n",
    "        out = 1000000\n",
    "        return(out)\n",
    "    else:\n",
    "    # print('rated')\n",
    "        listinfo = list((soup.find('div',class_=\"info\")).findAll('li'))\n",
    "        string = (listinfo[0].get_text())\n",
    "        string = string.replace(\" \",\"\")\n",
    "        str1,str2 = string.split('(')   \n",
    "        str3,str4 = str1.split(':') \n",
    "        out = int((str4.strip()))\n",
    "        return(out)\n"
   ]
  },
  {
   "cell_type": "code",
   "execution_count": null,
   "metadata": {},
   "outputs": [],
   "source": [
    "df_new['CodeForce_ranking'] = codeforces('user')\n",
    "(df_new.style\n",
    "    .set_table_styles(styles))"
   ]
  },
  {
   "cell_type": "markdown",
   "metadata": {},
   "source": [
    "-------"
   ]
  },
  {
   "cell_type": "markdown",
   "metadata": {},
   "source": [
    "## 8. Git-Awards Ranking"
   ]
  },
  {
   "cell_type": "code",
   "execution_count": null,
   "metadata": {},
   "outputs": [],
   "source": [
    "import requests\n",
    "from bs4 import BeautifulSoup\n",
    "import re\n",
    "\n",
    "head = \"http://git-awards.com/users/\"\n",
    "var = user\n",
    "URL = head + var\n",
    "\n",
    "page  = requests.get(URL)\n",
    "soup = BeautifulSoup(page.content,'html.parser')\n",
    "a = list(soup.findAll('div',class_='col-md-3 info'))\n",
    "b = list(soup.findAll('td'))\n",
    "lang=[]\n",
    "f = 0\n",
    "for i in a:\n",
    "    c = i.text.lstrip().rstrip()\n",
    "    if 'your ranking' in c and f==0:\n",
    "        f=1\n",
    "        continue\n",
    "    if 'ranking' in c:\n",
    "        s=\"\"\n",
    "        d = c.split(\" \")\n",
    "        for j in d:\n",
    "            if j!=\"ranking\":\n",
    "                s+=j+\" \"\n",
    "        lang.append(s.rstrip())\n",
    "        \n",
    "print(lang)\n",
    "df_new['lang_1'] = lang[0]\n",
    "df_new['lang_2'] = lang[1]\n",
    "df_new['lang_3'] = lang[2]\n",
    "df_new['lang_4'] = lang[3]\n",
    "(df_new.style\n",
    "    .set_table_styles(styles))"
   ]
  },
  {
   "cell_type": "markdown",
   "metadata": {},
   "source": [
    "(If you want to know about their work)"
   ]
  },
  {
   "cell_type": "code",
   "execution_count": null,
   "metadata": {},
   "outputs": [],
   "source": [
    "#username = input('enter github username - ')\n",
    "username = user\n",
    "print(\"Loading...\")\n",
    "print()\n",
    "url = \"https://github.com/\"+username\n",
    "sauce = urllib.request.urlopen(url).read()    \n",
    "soup = bs.BeautifulSoup(sauce,'lxml')     # lxml is a parser\n",
    "#print(soup)\n",
    "\n",
    "repoNo = int(soup.find('span',class_='Counter').text)\n",
    "n1 = repoNo\n",
    "print(\"No. of repositories = \",n1)\n",
    "print()\n",
    "\n",
    "url2 = url + \"?tab=repositories\"\n",
    "sauce = urllib.request.urlopen(url2).read()    \n",
    "soup = bs.BeautifulSoup(sauce,'lxml')\n",
    "#print(soup)\n",
    "\n",
    "arr = [0]\n",
    "tags = soup.find_all('a', itemprop=\"name codeRepository\")\n",
    "for tag in tags:\n",
    "    if tag.text!=\"\":\n",
    "        arr.append((tag.text).lstrip())\n",
    "\n",
    "k=2\n",
    "while(len(arr)<=n1):\n",
    "    url3 = url + \"?page=\"+str(k)+\"&tab=repositories\"\n",
    "    k+=1\n",
    "    sauce = urllib.request.urlopen(url3).read()    \n",
    "    soup = bs.BeautifulSoup(sauce,'lxml')\n",
    "    tags = soup.find_all('a', itemprop=\"name codeRepository\")\n",
    "    for tag in tags:\n",
    "        if tag.text!=\"\":\n",
    "            arr.append((tag.text).lstrip())\n",
    "\n",
    "for i in range(1,len(arr)):\n",
    "    h1 = str(i) + \".  \"+str(arr[i])\n",
    "    print(h1) \n"
   ]
  },
  {
   "cell_type": "code",
   "execution_count": null,
   "metadata": {},
   "outputs": [],
   "source": [
    "(df_new.style\n",
    "    .set_table_styles(styles))\n"
   ]
  },
  {
   "cell_type": "code",
   "execution_count": null,
   "metadata": {},
   "outputs": [],
   "source": [
    "df_new.to_csv(\"final_data.csv\")"
   ]
  },
  {
   "cell_type": "markdown",
   "metadata": {},
   "source": [
    "--------"
   ]
  },
  {
   "cell_type": "markdown",
   "metadata": {},
   "source": [
    "## Scoring"
   ]
  },
  {
   "cell_type": "markdown",
   "metadata": {},
   "source": [
    "Next part is to score the candidates on following parameters - \n",
    " - Rank (25)\n",
    " - Number of problems solved (25)\n",
    " - Reputation (25)\n",
    " - Followers (15)\n",
    " - Activity (5)\n",
    " - Contributions (5)"
   ]
  },
  {
   "cell_type": "code",
   "execution_count": null,
   "metadata": {},
   "outputs": [],
   "source": [
    "df_new['stack_reputation']= df_new['stack_reputation'].apply(pd.to_numeric)\n",
    "df_new['CodeChef_rating']= df_new['CodeChef_rating'].apply(pd.to_numeric)\n",
    "df_new['Codebuddy_points']= df_new['Codebuddy_points'].apply(pd.to_numeric)\n",
    "df_new['stack_answer_count']= df_new['stack_answer_count'].apply(pd.to_numeric)\n",
    "df_new['SPOJ_no_of_ques']= df_new['SPOJ_no_of_ques'].apply(pd.to_numeric)\n",
    "df_new['Codebuddy_problem_solved']= df_new['Codebuddy_problem_solved'].apply(pd.to_numeric)\n",
    "df_new['CodeChef_global_rank']= df_new['CodeChef_global_rank'].apply(pd.to_numeric)\n",
    "df_new['CodeChef_Country_rank']= df_new['CodeChef_Country_rank'].apply(pd.to_numeric)\n",
    "df_new['Codebuddy_rank']= df_new['Codebuddy_rank'].apply(pd.to_numeric)\n",
    "df_new['CodeForce_ranking']= df_new['CodeForce_ranking'].apply(pd.to_numeric)"
   ]
  },
  {
   "cell_type": "code",
   "execution_count": null,
   "metadata": {},
   "outputs": [],
   "source": [
    "df_res = df_new.filter(['email'], axis=1)"
   ]
  },
  {
   "cell_type": "markdown",
   "metadata": {},
   "source": [
    "## 1. Reputation"
   ]
  },
  {
   "cell_type": "code",
   "execution_count": null,
   "metadata": {},
   "outputs": [],
   "source": [
    "df_new.loc[ df_new['stack_reputation'] >= 360 , 'score_rep_1'] = 10\n",
    "df_new.loc[ (df_new['stack_reputation'] < 359) & (df_new['stack_reputation'] >= 150) , 'score_rep_1'] = 5\n",
    "df_new.loc[ (df_new['stack_reputation'] < 149) & (df_new['stack_reputation'] >= 100) , 'score_rep_1'] = 2\n",
    "\n",
    "df_new.loc[ df_new['CodeChef_rating'] > 1500 , 'score_rep_2'] = 10\n",
    "df_new.loc[ (df_new['CodeChef_rating'] < 1499) & (df_new['CodeChef_rating'] >= 1000) , 'score_rep_2'] = 5\n",
    "df_new.loc[ (df_new['CodeChef_rating'] < 999) & (df_new['CodeChef_rating'] >= 500) , 'score_rep_2'] = 2\n",
    "\n",
    "df_new.loc[ df_new['Codebuddy_points'] > 100 , 'score_rep_3'] = 5\n",
    "df_new.loc[ (df_new['Codebuddy_points'] < 99) & (df_new['Codebuddy_points'] >= 50) , 'score_rep_3'] = 2\n",
    "df_new.loc[ (df_new['Codebuddy_points'] < 49) & (df_new['Codebuddy_points'] >= 20) , 'score_rep_3'] = 1\n",
    "\n",
    "df_res['score_rep'] = df_new['score_rep_1'] + df_new['score_rep_2'] + df_new['score_rep_3']"
   ]
  },
  {
   "cell_type": "code",
   "execution_count": null,
   "metadata": {},
   "outputs": [],
   "source": [
    "df_res"
   ]
  },
  {
   "cell_type": "markdown",
   "metadata": {},
   "source": [
    "-----\n",
    "## 2. Number of Problems Solved "
   ]
  },
  {
   "cell_type": "code",
   "execution_count": null,
   "metadata": {},
   "outputs": [],
   "source": [
    "df_new.loc[ df_new['stack_answer_count'] >= 20 , 'score_ps_1'] = 9\n",
    "df_new.loc[ (df_new['stack_answer_count'] < 20) & (df_new['stack_answer_count'] >= 10) , 'score_ps_1'] = 5\n",
    "df_new.loc[ (df_new['stack_answer_count'] < 10) & (df_new['stack_answer_count'] >= 5) , 'score_ps_1'] = 3\n",
    "\n",
    "df_new.loc[ df_new['SPOJ_no_of_ques'] >= 10 , 'score_ps_2'] = 8\n",
    "df_new.loc[ (df_new['SPOJ_no_of_ques'] < 9) & (df_new['SPOJ_no_of_ques'] >= 5) , 'score_ps_2'] = 4\n",
    "df_new.loc[ (df_new['SPOJ_no_of_ques'] < 5) & (df_new['SPOJ_no_of_ques'] >= 2) , 'score_ps_2'] = 2\n",
    "\n",
    "df_new.loc[ df_new['Codebuddy_problem_solved'] >= 50 , 'score_ps_3'] = 8\n",
    "df_new.loc[ (df_new['Codebuddy_problem_solved'] < 49) & (df_new['Codebuddy_problem_solved'] >= 25) , 'score_ps_3'] = 4\n",
    "df_new.loc[ (df_new['Codebuddy_problem_solved'] < 24) & (df_new['Codebuddy_problem_solved'] >= 10) , 'score_ps_3'] = 2\n",
    "\n",
    "df_res['score_ps'] = df_new['score_ps_1'] + df_new['score_ps_2'] + df_new['score_ps_3']"
   ]
  },
  {
   "cell_type": "code",
   "execution_count": null,
   "metadata": {},
   "outputs": [],
   "source": [
    "df_res"
   ]
  },
  {
   "cell_type": "markdown",
   "metadata": {},
   "source": [
    "------\n",
    "## 3. Ranking"
   ]
  },
  {
   "cell_type": "code",
   "execution_count": null,
   "metadata": {},
   "outputs": [],
   "source": [
    "df_new.loc[ df_new['CodeChef_global_rank'] <= 5000 , 'score_rank_1'] = 7\n",
    "df_new.loc[ (df_new['CodeChef_global_rank'] > 5000) & (df_new['CodeChef_global_rank'] <= 15000) , 'score_rank_1'] = 4\n",
    "df_new.loc[ (df_new['CodeChef_global_rank'] > 15000) & (df_new['CodeChef_global_rank'] <= 25000) , 'score_rank_1'] = 2\n",
    "\n",
    "df_new.loc[ df_new['CodeChef_Country_rank'] <= 2000 , 'score_rank_2'] = 6\n",
    "df_new.loc[ (df_new['CodeChef_Country_rank'] > 2000) & (df_new['CodeChef_Country_rank'] <= 7000) , 'score_rank_2'] = 3\n",
    "df_new.loc[ (df_new['CodeChef_Country_rank'] > 7000) & (df_new['CodeChef_Country_rank'] <= 15000) , 'score_rank_2'] = 1\n",
    "\n",
    "df_new.loc[ df_new['Codebuddy_rank'] <= 50 , 'score_rank_3'] = 6\n",
    "df_new.loc[ (df_new['Codebuddy_rank'] > 50) & (df_new['Codebuddy_rank'] <= 250) , 'score_rank_3'] = 3\n",
    "df_new.loc[ (df_new['Codebuddy_rank'] > 250) & (df_new['Codebuddy_rank'] <= 500) , 'score_rank_3'] = 1\n",
    "\n",
    "df_new.loc[ df_new['CodeForce_ranking'] <= 500 , 'score_rank_4'] = 6\n",
    "df_new.loc[ (df_new['CodeForce_ranking'] > 500) & (df_new['CodeForce_ranking'] <= 2000) , 'score_rank_4'] = 3\n",
    "df_new.loc[ (df_new['CodeForce_ranking'] > 2000) & (df_new['CodeForce_ranking'] <= 5000) , 'score_rank_4'] = 1\n",
    "\n",
    "df_res['score_rank'] = df_new['score_rank_1'] + df_new['score_rank_2'] + df_new['score_rank_3'] + df_new['score_rank_4'] \n"
   ]
  },
  {
   "cell_type": "code",
   "execution_count": null,
   "metadata": {},
   "outputs": [],
   "source": [
    "df_res"
   ]
  },
  {
   "cell_type": "markdown",
   "metadata": {},
   "source": [
    "-------\n",
    "## 4. Activity"
   ]
  },
  {
   "cell_type": "code",
   "execution_count": null,
   "metadata": {},
   "outputs": [],
   "source": [
    "df_new['updated_at'] = df_new['updated_at'].apply(pd.to_datetime)\n",
    "df_new['updated_at']\n",
    "df_new['updated_at'] = df_new['updated_at'].dt.date\n",
    "df_new['updated_at'] = df_new['updated_at'].apply(pd.to_datetime)\n",
    "df_new['updated_at']"
   ]
  },
  {
   "cell_type": "code",
   "execution_count": null,
   "metadata": {},
   "outputs": [],
   "source": [
    "df_new['current_date'] = '2018-06-24'\n",
    "df_new['current_date']= df_new['current_date'].apply(pd.to_datetime)\n",
    "df_new['current_date']"
   ]
  },
  {
   "cell_type": "code",
   "execution_count": null,
   "metadata": {},
   "outputs": [],
   "source": [
    "from datetime import date\n",
    "df_new['last_active'] = df_new['current_date'] - df_new['updated_at']\n",
    "df_new['last_active'].astype(str)\n"
   ]
  },
  {
   "cell_type": "code",
   "execution_count": null,
   "metadata": {},
   "outputs": [],
   "source": [
    "df_new['last_active'] = df_new['last_active'].astype(str).str[0]\n",
    "df_new['last_active']= df_new['last_active'].apply(pd.to_numeric)\n",
    "df_new['last_active']"
   ]
  },
  {
   "cell_type": "code",
   "execution_count": null,
   "metadata": {},
   "outputs": [],
   "source": [
    "df_new.loc[df_new['last_active'] <= 7 , 'score_activity_1'] = 5\n",
    "df_new.loc[ (df_new['last_active'] > 8) & (df_new['last_active'] <= 15) , 'score_activity_1'] = 3\n",
    "df_new.loc[ (df_new['last_active'] > 15) & (df_new['last_active'] <= 30) , 'score_activity_1'] = 1\n",
    "\n",
    "df_res['score_activity'] = df_new['score_activity_1'] \n",
    "\n"
   ]
  },
  {
   "cell_type": "markdown",
   "metadata": {},
   "source": [
    "--------\n",
    "## 5. Followers"
   ]
  },
  {
   "cell_type": "code",
   "execution_count": null,
   "metadata": {},
   "outputs": [],
   "source": [
    "df_new.loc[ df_new['followers'] >= 200 , 'score_followers_1'] = 15\n",
    "df_new.loc[ (df_new['followers'] < 200) & (df_new['followers'] >= 50) , 'score_followers_1'] = 10\n",
    "df_new.loc[ (df_new['followers'] < 50) & (df_new['followers'] >= 30) , 'score_followers_1'] = 5\n",
    "\n",
    "df_res['score_followers'] = df_new['score_followers_1']\n",
    "df_res\n",
    "\n"
   ]
  },
  {
   "cell_type": "markdown",
   "metadata": {},
   "source": [
    "------\n",
    "## 6. Contributions"
   ]
  },
  {
   "cell_type": "code",
   "execution_count": null,
   "metadata": {},
   "outputs": [],
   "source": [
    "df_new.loc[ df_new['public_repos'] >= 30 , 'score_con_1'] = 5\n",
    "df_new.loc[ (df_new['followers'] < 30) & (df_new['followers'] >= 10) , 'score_con_1'] = 3\n",
    "df_new.loc[ (df_new['followers'] < 10) & (df_new['followers'] >= 3) , 'score_con_1'] = 1\n",
    "\n",
    "df_res['score_contributions'] = df_new['score_con_1']\n",
    "df_res"
   ]
  },
  {
   "cell_type": "markdown",
   "metadata": {},
   "source": [
    "-------\n",
    "\n",
    "## 7. Final Score"
   ]
  },
  {
   "cell_type": "code",
   "execution_count": null,
   "metadata": {},
   "outputs": [],
   "source": [
    "df_res['total_score'] = df_res['score_rep'] + df_res['score_ps'] + df_res['score_rank'] + df_res['score_activity'] + df_res['score_followers'] + df_res['score_contributions']"
   ]
  },
  {
   "cell_type": "code",
   "execution_count": null,
   "metadata": {},
   "outputs": [],
   "source": [
    "(df_res.style\n",
    "    .applymap(color_negative_red, subset=['total_score'])\n",
    "    .set_table_styles(styles))"
   ]
  },
  {
   "cell_type": "markdown",
   "metadata": {},
   "source": [
    "-------\n",
    "-------"
   ]
  },
  {
   "cell_type": "markdown",
   "metadata": {},
   "source": [
    "## Demo\n",
    "\n",
    "   - Visualizing candidates perfomance throughs charts and graphs"
   ]
  },
  {
   "cell_type": "markdown",
   "metadata": {},
   "source": [
    "-------\n",
    "-------"
   ]
  },
  {
   "cell_type": "markdown",
   "metadata": {},
   "source": [
    "## Tech Stack\n",
    "\n",
    "    - Python: BeautifulSoup, Urllib, Pandas, Scipy\n",
    "    - D3.js\n",
    "\n",
    "-------\n",
    "-------"
   ]
  },
  {
   "cell_type": "markdown",
   "metadata": {},
   "source": [
    "## What's Next?\n",
    "\n",
    "    - Scorey for non technical recruitments - Sales, Marketing and HR\n",
    "    - Integrating Machine learning components for rule generation\n",
    "    - Handling missing data exceptions dynamically\n",
    "    \n",
    "-------\n",
    "-------\n",
    "\n",
    "Thank you!"
   ]
  },
  {
   "cell_type": "code",
   "execution_count": null,
   "metadata": {},
   "outputs": [],
   "source": []
  }
 ],
 "metadata": {
  "kernelspec": {
   "display_name": "Python 3",
   "language": "python",
   "name": "python3"
  },
  "language_info": {
   "codemirror_mode": {
    "name": "ipython",
    "version": 3
   },
   "file_extension": ".py",
   "mimetype": "text/x-python",
   "name": "python",
   "nbconvert_exporter": "python",
   "pygments_lexer": "ipython3",
   "version": "3.7.1"
  }
 },
 "nbformat": 4,
 "nbformat_minor": 2
}
